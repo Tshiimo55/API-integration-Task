{
 "cells": [
  {
   "cell_type": "code",
   "execution_count": 1,
   "id": "7f98f6cc-15a1-4e31-ace2-f9ac04e4504c",
   "metadata": {},
   "outputs": [
    {
     "name": "stdout",
     "output_type": "stream",
     "text": [
      "The current price of Bitcoin in USD is: 95673\n"
     ]
    }
   ],
   "source": [
    "import requests\n",
    "\n",
    "def fetch_crypto_price(crypto=\"bitcoin\", currency=\"usd\"):\n",
    "    url = f\"https://api.coingecko.com/api/v3/simple/price?ids={crypto}&vs_currencies={currency}\"\n",
    "    \n",
    "    try:\n",
    "        response = requests.get(url, timeout=10)\n",
    "        response.raise_for_status()  # Raise an exception for HTTP errors\n",
    "\n",
    "        data = response.json()\n",
    "\n",
    "        if crypto in data and currency in data[crypto]:\n",
    "            price = data[crypto][currency]\n",
    "            print(f\"The current price of {crypto.capitalize()} in {currency.upper()} is: {price}\")\n",
    "        else:\n",
    "            print(\"Unexpected data format received.\")\n",
    "    \n",
    "    except requests.exceptions.HTTPError as http_err:\n",
    "        print(f\"HTTP error occurred: {http_err}\")\n",
    "    except requests.exceptions.ConnectionError:\n",
    "        print(\"Network error. Please check your internet connection.\")\n",
    "    except requests.exceptions.Timeout:\n",
    "        print(\"The request timed out.\")\n",
    "    except requests.exceptions.RequestException as err:\n",
    "        print(f\"An error occurred: {err}\")\n",
    "    except ValueError:\n",
    "        print(\"Failed to parse the response as JSON.\")\n",
    "\n",
    "# Example usage\n",
    "fetch_crypto_price(\"bitcoin\", \"usd\")\n"
   ]
  },
  {
   "cell_type": "code",
   "execution_count": null,
   "id": "2e599d57-d672-4a78-b41d-5544dc26f3bb",
   "metadata": {},
   "outputs": [],
   "source": []
  }
 ],
 "metadata": {
  "kernelspec": {
   "display_name": "Python 3 (ipykernel)",
   "language": "python",
   "name": "python3"
  },
  "language_info": {
   "codemirror_mode": {
    "name": "ipython",
    "version": 3
   },
   "file_extension": ".py",
   "mimetype": "text/x-python",
   "name": "python",
   "nbconvert_exporter": "python",
   "pygments_lexer": "ipython3",
   "version": "3.11.5"
  }
 },
 "nbformat": 4,
 "nbformat_minor": 5
}
